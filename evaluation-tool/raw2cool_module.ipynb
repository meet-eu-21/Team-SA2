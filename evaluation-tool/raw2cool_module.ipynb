{
 "cells": [
  {
   "cell_type": "code",
   "execution_count": 4,
   "id": "f50d6771",
   "metadata": {},
   "outputs": [
    {
     "ename": "SyntaxError",
     "evalue": "invalid syntax (<ipython-input-4-0c80756b938b>, line 6)",
     "output_type": "error",
     "traceback": [
      "\u001b[1;36m  File \u001b[1;32m\"<ipython-input-4-0c80756b938b>\"\u001b[1;36m, line \u001b[1;32m6\u001b[0m\n\u001b[1;33m    import \"C:\\Users\\maxim\\Desktop\\Untitled Folder\\HiCtoolbox.py\"\u001b[0m\n\u001b[1;37m           ^\u001b[0m\n\u001b[1;31mSyntaxError\u001b[0m\u001b[1;31m:\u001b[0m invalid syntax\n"
     ]
    }
   ],
   "source": [
    "import sys\n",
    "import numpy as np\n",
    "from scipy.spatial import ConvexHull\n",
    "from scipy import sparse\n",
    "from sklearn.manifold import MDS #If you want the scikit learn mds\n",
    "import hictoolbox\n",
    "from scipy import ndimage, misc,signal\n",
    "import seaborn as sns\n",
    "\n",
    "import pandas as pd\n",
    "from pandas import Series\n",
    "import cooler\n",
    "from cooler.create import ArrayLoader"
   ]
  },
  {
   "cell_type": "code",
   "execution_count": 45,
   "id": "ec70a5e2",
   "metadata": {},
   "outputs": [],
   "source": [
    "def raw2cool(path,chr_name,R=25000):\n",
    "    #path : for example path to chr9_25kb.RAWobserved\n",
    "    #chr_name : for example 'chr9'\n",
    "    #R : resolution\n",
    "    \n",
    "    HiCfilename=path\n",
    "    \n",
    "    A=np.loadtxt(HiCfilename)\n",
    "    A=np.int_(A)\n",
    "    \n",
    "    chr_size=A[-1][0]\n",
    "    \n",
    "    A=np.concatenate((A,np.transpose(np.array([A[:,1],A[:,0],A[:,2]]))), axis=0)\n",
    "    A = sparse.coo_matrix( (A[:,2], (A[:,0],A[:,1])))\n",
    "    binned_map=hictoolbox.bin2d(A,R,R)\n",
    "    \n",
    "    labels = [chr_name] \n",
    "    s = Series(chr_size,index=labels)\n",
    "    bins = cooler.binnify(s, R)\n",
    "    bins.loc[len(bins)]=[chr_name,chr_size,chr_size] #add last row so that there is same number of rows as in binned matrix\n",
    "    \n",
    "    c = binned_map.tocoo()\n",
    "    f = pd.DataFrame({'bin1_id': c.row, 'bin2_id': c.col, 'count': c.data})\n",
    "    f=f.query('bin1_id < bin2_id and bin2_id<{}'.format(bins.shape[0]))\n",
    "    #lastdiagonalbin=binned_map[int(chr_size/R),int(chr_size/R)]\n",
    "    #f.loc[f.index[-1]]=[int(chr_size/R),int(chr_size/R),lastdiagonalbin] #add last row, i.e last bin on diagonal, 13153215 is pandas label of rows,\n",
    "\n",
    "    cooler.create_cooler('{}.cool'.format(chr_name), bins, f)"
   ]
  },
  {
   "cell_type": "code",
   "execution_count": 46,
   "id": "6f8575eb",
   "metadata": {},
   "outputs": [
    {
     "name": "stderr",
     "output_type": "stream",
     "text": [
      "/var/folders/gc/y0f_kmk133b6n0f35k5ctjxc0000gn/T/ipykernel_2229/4241866825.py:25: DeprecationWarning: `np.int` is a deprecated alias for the builtin `int`. To silence this warning, use `int` by itself. Doing this will not modify any behavior and is safe. When replacing `np.int`, you may wish to use e.g. `np.int64` or `np.int32` to specify the precision. If you wish to review your current use, check the release note link for additional information.\n",
      "Deprecated in NumPy 1.20; for more details and guidance: https://numpy.org/devdocs/release/1.20.0-notes.html#deprecations\n",
      "  lastdiagonalbin=binned_map[np.int(chr_size/R),np.int(chr_size/R)]\n"
     ]
    }
   ],
   "source": [
    "HiCfilename='/Users/antoineszatkownik/Desktop/M2/MEET-EU/scripts/data/GM12878/25kb_resolution_intrachromosomal/chr9_25kb.RAWobserved'\n",
    "raw2cool(HiCfilename,'chr9')"
   ]
  },
  {
   "cell_type": "code",
   "execution_count": null,
   "id": "4cb6a8de",
   "metadata": {},
   "outputs": [],
   "source": []
  }
 ],
 "metadata": {
  "kernelspec": {
   "display_name": "Python 3",
   "language": "python",
   "name": "python3"
  },
  "language_info": {
   "codemirror_mode": {
    "name": "ipython",
    "version": 3
   },
   "file_extension": ".py",
   "mimetype": "text/x-python",
   "name": "python",
   "nbconvert_exporter": "python",
   "pygments_lexer": "ipython3",
   "version": "3.8.8"
  }
 },
 "nbformat": 4,
 "nbformat_minor": 5
}
