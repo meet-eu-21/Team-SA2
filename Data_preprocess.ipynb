{
 "cells": [
  {
   "cell_type": "markdown",
   "id": "e1ae5be5",
   "metadata": {},
   "source": [
    "# Required libraries"
   ]
  },
  {
   "cell_type": "code",
   "execution_count": 1,
   "id": "d5db1767",
   "metadata": {},
   "outputs": [],
   "source": [
    "import pandas as pd\n",
    "import numpy as np\n",
    "import random\n",
    "\n",
    "import seaborn as sns\n",
    "import matplotlib.pyplot as plt\n",
    "\n",
    "import HiCtoolbox\n",
    "from scipy import sparse"
   ]
  },
  {
   "cell_type": "markdown",
   "id": "045e104c",
   "metadata": {},
   "source": [
    "# 1 ) Save all contact map in csv format in order to fasten data generation \n",
    "##### required space: 17.6 MB\n",
    "\n"
   ]
  },
  {
   "cell_type": "markdown",
   "id": "fb259e76",
   "metadata": {},
   "source": [
    "# \n",
    "## Path for folder containing all HiC file\n",
    "\n",
    "folder should contains 25kb HiC files named as following: chrX_25kb.Rawobserved\""
   ]
  },
  {
   "cell_type": "code",
   "execution_count": 2,
   "id": "4c6e69b5",
   "metadata": {},
   "outputs": [],
   "source": [
    "HiCpath=r'dataforstudent\\HiC\\GM12878\\25kb_resolution_intrachromosomal'"
   ]
  },
  {
   "cell_type": "markdown",
   "id": "4039ffa7",
   "metadata": {},
   "source": [
    "## Path for destination folder"
   ]
  },
  {
   "cell_type": "code",
   "execution_count": 9,
   "id": "644c411a",
   "metadata": {},
   "outputs": [],
   "source": [
    "folder = r'Chromosomes'"
   ]
  },
  {
   "cell_type": "markdown",
   "id": "ed1c4626",
   "metadata": {},
   "source": [
    "Leopold Caron's script to generate HIC matrices.\n",
    "\n",
    "### Do not run the cell below if files have already been generated"
   ]
  },
  {
   "cell_type": "code",
   "execution_count": null,
   "id": "9b4a4d26",
   "metadata": {},
   "outputs": [],
   "source": [
    "R=25000\n",
    "alpha = 0.227\n",
    "\n",
    "for c in [x if x<23 else \"X\" for x in range(1,24)]:\n",
    "    print(\"Chrom {}\".format(c))\n",
    "    HiCfilename= Hicpath + '\\\\chr{}_25kb.RAWobserved'.format(c)\n",
    "    #Build matrix\n",
    "    A=np.loadtxt(HiCfilename)\n",
    "    A=np.int_(A)\n",
    "    A=np.concatenate((A,np.transpose(np.array([A[:,1],A[:,0],A[:,2]]))), axis=0)#build array at pb resolution\n",
    "    A = sparse.coo_matrix( (A[:,2], (A[:,0],A[:,1])))\n",
    "    binned_map=HiCtoolbox.bin2d(A,R,R) #!become csr sparse array\n",
    "    LENTEST=np.shape(A)[0]\n",
    "    del A #keep space\n",
    "\n",
    "    #Build color annotation at desired resolution\n",
    "    # FILTER\n",
    "    sumHicmat=np.sum(binned_map,0) \n",
    "    mini = np.mean(sumHicmat)-np.std(sumHicmat)*1.5 #min value of filtering\n",
    "    maxi = np.mean(sumHicmat)+np.std(sumHicmat)*1.5 #max value of filtering\n",
    "    binsaved=np.where(np.logical_and(mini < sumHicmat,sumHicmat < maxi)) #coord of bin to save\n",
    "    contact_map=HiCtoolbox.SCN(binned_map.copy()) \n",
    "    contact_map=np.asarray(contact_map)**alpha #now we are not sparse at all\n",
    "    \n",
    "    np.savetxt(folder + \"\\Chrom_{}.csv\".format(c),contact_map, delimiter = \" \")\n",
    "\n",
    "print(\"Done!\")\n",
    "    "
   ]
  },
  {
   "cell_type": "markdown",
   "id": "652acc7e",
   "metadata": {},
   "source": [
    "# 2) Generates windows (33*33) and labels\n",
    "##### required space: 267 Mb\n",
    "\n",
    "Will extract all label 1 and 2 windows and select the of label 0 windows"
   ]
  },
  {
   "cell_type": "markdown",
   "id": "5e4d1834",
   "metadata": {},
   "source": [
    "## Data file's path"
   ]
  },
  {
   "cell_type": "code",
   "execution_count": 6,
   "id": "066606d6",
   "metadata": {},
   "outputs": [],
   "source": [
    "arrH_file = r\"data\\annotated_position.csv\" #path to supplied annotated_position.csv\n",
    "lab0 = r\"data\\labelzero.csv\" #path to supplied labelzero.csv"
   ]
  },
  {
   "cell_type": "markdown",
   "id": "adac558d",
   "metadata": {},
   "source": [
    "## Destination folder"
   ]
  },
  {
   "cell_type": "code",
   "execution_count": 7,
   "id": "bb2887aa",
   "metadata": {},
   "outputs": [],
   "source": [
    "data_path = \"generated_windows\""
   ]
  },
  {
   "cell_type": "markdown",
   "id": "4216bf25",
   "metadata": {},
   "source": [
    "# window generation\n",
    "Create the numpy matrix for each position with label:\n",
    "0: not a tad border\n",
    "1: start of a tad\n",
    "2: end of a tad"
   ]
  },
  {
   "cell_type": "code",
   "execution_count": 10,
   "id": "0ae09ce6",
   "metadata": {},
   "outputs": [
    {
     "name": "stdout",
     "output_type": "stream",
     "text": [
      "Read Arrowhead file...\n",
      "Read chromosome 1\n",
      "Chromosome 1: 596 windows\n",
      "Read chromosome 2\n",
      "Chromosome 2: 550 windows\n",
      "Read chromosome 3\n",
      "Chromosome 3: 482 windows\n",
      "Read chromosome 4\n",
      "Chromosome 4: 368 windows\n",
      "Read chromosome 5\n",
      "Chromosome 5: 428 windows\n",
      "Read chromosome 6\n",
      "Chromosome 6: 442 windows\n",
      "Read chromosome 7\n",
      "Chromosome 7: 362 windows\n",
      "Read chromosome 8\n",
      "Chromosome 8: 326 windows\n",
      "Read chromosome 9\n",
      "Chromosome 9: 194 windows\n",
      "Read chromosome 10\n",
      "Chromosome 10: 358 windows\n",
      "Read chromosome 11\n",
      "Chromosome 11: 346 windows\n",
      "Read chromosome 12\n",
      "Chromosome 12: 344 windows\n",
      "Read chromosome 13\n",
      "Chromosome 13: 184 windows\n",
      "Read chromosome 14\n",
      "Chromosome 14: 218 windows\n",
      "Read chromosome 15\n",
      "Chromosome 15: 268 windows\n",
      "Read chromosome 16\n",
      "Chromosome 16: 196 windows\n",
      "Read chromosome 17\n",
      "Chromosome 17: 182 windows\n",
      "Read chromosome 18\n",
      "Chromosome 18: 212 windows\n",
      "Read chromosome 19\n",
      "Chromosome 19: 172 windows\n",
      "Read chromosome 20\n",
      "Chromosome 20: 210 windows\n",
      "Read chromosome 21\n",
      "Chromosome 21: 94 windows\n"
     ]
    }
   ],
   "source": [
    "print(\"Read data...\")\n",
    "R=25000                       #Resolution\n",
    "with open(arrH_file, \"r\") as f:\n",
    "    lines = f.readlines()\n",
    "tmp=[]\n",
    "for l in lines:\n",
    "    tmp.append(l.rstrip(\"\\n\").split(\" \"))\n",
    "    \n",
    "x = pd.DataFrame(tmp[1:],columns= tmp[0])\n",
    "x0 = pd.read_csv(lab0, sep=\" \")\n",
    "\n",
    "for c in [x if x<23 else \"X\" for x in range(1,22)]:\n",
    "    print(\"Read chromosome \" + str(c) )\n",
    "    mat = np.array(pd.read_csv(folder + \"\\\\Chrom_{}.csv\".format(c), sep = \" \"))\n",
    "    arr1 = np.array(x[x.chr==\"chr\"+str(c)][\"start\"])\n",
    "    arr2 = np.array(x[x.chr==\"chr\"+str(c)][\"end\"])\n",
    "    arr0 = np.array(x0[x0.chr==c][\"pos\"])\n",
    "    np.random.shuffle(arr0)\n",
    "    \n",
    "    cpt = 0\n",
    "    for i,l in enumerate(arr1):\n",
    "        #label 1\n",
    "        c1rd1 = int(l)\n",
    "        c1rd2 = int(arr2[i])\n",
    "        len1 = int(arr2[i])-int(l)\n",
    "        \n",
    "        #label 0\n",
    "        c0rd1 = int(arr0[i])\n",
    "        c0rd2 = int(arr0[-i])\n",
    "\n",
    "        try:\n",
    "            n1 = mat[c0rd1-16:c0rd1+17,c0rd1-16:c0rd1+17]\n",
    "            p1 = mat[c1rd1-16:c1rd1+17,c1rd1-16:c1rd1+17]\n",
    "            p2 = mat[c1rd2-16:c1rd2+17,c1rd2-16:c1rd2+17]\n",
    "\n",
    "        except IndexError:\n",
    "            debug = False\n",
    "            print(\"IndexError\")\n",
    "            continue\n",
    "        \n",
    "        if all([True if x.shape == (33,33) else False for x in [n1,p1,p2]]):\n",
    "\n",
    "            np.savetxt(data_path + \"\\\\0\\\\chrom_{}_{}_{}.csv\".format(c,c0rd1,0), n1)\n",
    "            np.savetxt(data_path + \"\\\\1\\\\chrom_{}_{}_{}.csv\".format(c,c1rd1,len1), p1)\n",
    "            np.savetxt(data_path + \"\\\\2\\\\chrom_{}_{}_{}.csv\".format(c,c1rd2,len1), p2)\n",
    "            cpt+=3\n",
    "        else: continue\n",
    "    print(\"Chromosome {}: {} windows\".format(c, cpt))\n",
    "\n",
    "\n"
   ]
  },
  {
   "cell_type": "markdown",
   "id": "fac67b24",
   "metadata": {},
   "source": [
    "Create the daframe needed for the data generator"
   ]
  },
  {
   "cell_type": "code",
   "execution_count": 11,
   "id": "4192182c",
   "metadata": {},
   "outputs": [],
   "source": [
    "dat1 = pd.read_csv(arrH_file, sep = \" \")\n",
    "dat0 = pd.read_csv(lab0, sep = \" \")\n",
    "\n",
    "dat1[\"count\"] = dat1[\"end\"] - dat1[\"start\"]\n",
    "dat1[\"chr\"] = dat1[\"chr\"].str.replace(\"chr\",\"\")\n",
    "pos = np.concatenate((np.array(dat1[\"start\"]),np.array(dat1[\"end\"])))\n",
    "length = np.concatenate((np.array(dat1[\"count\"]),np.array(dat1[\"count\"])))\n",
    "clas = np.concatenate((np.array([1]*len(dat1)),np.array([2]*len(dat1))))\n",
    "chrom = np.concatenate((np.array(dat1[\"chr\"]),np.array(dat1[\"chr\"])))\n",
    "\n",
    "dat_full = pd.DataFrame({'chr':chrom,'pos':pos,'class':clas, 'length':length})\n",
    "\n",
    "dat0[\"class\"] = 0\n",
    "dat0[\"length\"] = 0\n",
    "\n",
    "dat_full = pd.concat((dat_full,dat0.sample(frac=len(dat_full)/len(dat0))), axis=0)\n",
    "sample_dat = dat_full.sample(frac=1)\n",
    "frac = int(len(sample_dat)*0.7)\n",
    "sample_dat[:frac].to_csv(\"gentrain_data.txt\",index=False)\n",
    "sample_dat[frac:].to_csv(\"gentest_data.txt\",index=False)"
   ]
  },
  {
   "cell_type": "code",
   "execution_count": null,
   "id": "fb8f9112",
   "metadata": {},
   "outputs": [],
   "source": []
  }
 ],
 "metadata": {
  "kernelspec": {
   "display_name": "Python 3",
   "language": "python",
   "name": "python3"
  },
  "language_info": {
   "codemirror_mode": {
    "name": "ipython",
    "version": 3
   },
   "file_extension": ".py",
   "mimetype": "text/x-python",
   "name": "python",
   "nbconvert_exporter": "python",
   "pygments_lexer": "ipython3",
   "version": "3.8.8"
  }
 },
 "nbformat": 4,
 "nbformat_minor": 5
}
