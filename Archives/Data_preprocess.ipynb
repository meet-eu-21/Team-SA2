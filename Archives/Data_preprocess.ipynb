{
 "cells": [
  {
   "cell_type": "markdown",
   "id": "e1ae5be5",
   "metadata": {},
   "source": [
    "# Required libraries"
   ]
  },
  {
   "cell_type": "code",
   "execution_count": 122,
   "id": "d5db1767",
   "metadata": {},
   "outputs": [],
   "source": [
    "import pandas as pd\n",
    "import numpy as np\n",
    "import random\n",
    "\n",
    "import seaborn as sns\n",
    "import matplotlib.pyplot as plt\n",
    "\n",
    "import HiCtoolbox\n",
    "from scipy import sparse"
   ]
  },
  {
   "cell_type": "markdown",
   "id": "045e104c",
   "metadata": {},
   "source": [
    "# 1 ) Save all contact map in csv format in order to fasten data generation \n",
    "##### required space: 17.6 MB\n",
    "\n",
    "### Do not run the three cells below if files have already been generated\n",
    "\n"
   ]
  },
  {
   "cell_type": "markdown",
   "id": "fb259e76",
   "metadata": {},
   "source": [
    "# \n",
    "## Path for folder containing all HiC file\n",
    "\n",
    "folder should contains 25kb HiC files named as following: chrX_25kb.Rawobserved\""
   ]
  },
  {
   "cell_type": "code",
   "execution_count": 123,
   "id": "4c6e69b5",
   "metadata": {},
   "outputs": [],
   "source": [
    "HiCpath=r'dataforstudent\\HiC\\GM12878\\25kb_resolution_intrachromosomal'"
   ]
  },
  {
   "cell_type": "markdown",
   "id": "4039ffa7",
   "metadata": {},
   "source": [
    "## Path for destination folder"
   ]
  },
  {
   "cell_type": "code",
   "execution_count": 124,
   "id": "644c411a",
   "metadata": {},
   "outputs": [],
   "source": [
    "folder = r'Chromosomes'"
   ]
  },
  {
   "cell_type": "markdown",
   "id": "ed1c4626",
   "metadata": {},
   "source": [
    "Leopold Caron's script to generate HIC matrices."
   ]
  },
  {
   "cell_type": "code",
   "execution_count": 125,
   "id": "9b4a4d26",
   "metadata": {},
   "outputs": [
    {
     "name": "stdout",
     "output_type": "stream",
     "text": [
      "Chrom 1\n"
     ]
    },
    {
     "ename": "NameError",
     "evalue": "name 'Hicpath' is not defined",
     "output_type": "error",
     "traceback": [
      "\u001b[1;31m---------------------------------------------------------------------------\u001b[0m",
      "\u001b[1;31mNameError\u001b[0m                                 Traceback (most recent call last)",
      "\u001b[1;32m<ipython-input-125-080283303408>\u001b[0m in \u001b[0;36m<module>\u001b[1;34m\u001b[0m\n\u001b[0;32m      4\u001b[0m \u001b[1;32mfor\u001b[0m \u001b[0mc\u001b[0m \u001b[1;32min\u001b[0m \u001b[1;33m[\u001b[0m\u001b[0mx\u001b[0m \u001b[1;32mif\u001b[0m \u001b[0mx\u001b[0m\u001b[1;33m<\u001b[0m\u001b[1;36m23\u001b[0m \u001b[1;32melse\u001b[0m \u001b[1;34m\"X\"\u001b[0m \u001b[1;32mfor\u001b[0m \u001b[0mx\u001b[0m \u001b[1;32min\u001b[0m \u001b[0mrange\u001b[0m\u001b[1;33m(\u001b[0m\u001b[1;36m1\u001b[0m\u001b[1;33m,\u001b[0m\u001b[1;36m24\u001b[0m\u001b[1;33m)\u001b[0m\u001b[1;33m]\u001b[0m\u001b[1;33m:\u001b[0m\u001b[1;33m\u001b[0m\u001b[1;33m\u001b[0m\u001b[0m\n\u001b[0;32m      5\u001b[0m     \u001b[0mprint\u001b[0m\u001b[1;33m(\u001b[0m\u001b[1;34m\"Chrom {}\"\u001b[0m\u001b[1;33m.\u001b[0m\u001b[0mformat\u001b[0m\u001b[1;33m(\u001b[0m\u001b[0mc\u001b[0m\u001b[1;33m)\u001b[0m\u001b[1;33m)\u001b[0m\u001b[1;33m\u001b[0m\u001b[1;33m\u001b[0m\u001b[0m\n\u001b[1;32m----> 6\u001b[1;33m     \u001b[0mHiCfilename\u001b[0m\u001b[1;33m=\u001b[0m \u001b[0mHicpath\u001b[0m \u001b[1;33m+\u001b[0m \u001b[1;34m'\\chr{}_25kb.RAWobserved'\u001b[0m\u001b[1;33m.\u001b[0m\u001b[0mformat\u001b[0m\u001b[1;33m(\u001b[0m\u001b[0mc\u001b[0m\u001b[1;33m)\u001b[0m\u001b[1;33m\u001b[0m\u001b[1;33m\u001b[0m\u001b[0m\n\u001b[0m\u001b[0;32m      7\u001b[0m     \u001b[1;31m#Build matrix\u001b[0m\u001b[1;33m\u001b[0m\u001b[1;33m\u001b[0m\u001b[1;33m\u001b[0m\u001b[0m\n\u001b[0;32m      8\u001b[0m     \u001b[0mA\u001b[0m\u001b[1;33m=\u001b[0m\u001b[0mnp\u001b[0m\u001b[1;33m.\u001b[0m\u001b[0mloadtxt\u001b[0m\u001b[1;33m(\u001b[0m\u001b[0mHiCfilename\u001b[0m\u001b[1;33m)\u001b[0m\u001b[1;33m\u001b[0m\u001b[1;33m\u001b[0m\u001b[0m\n",
      "\u001b[1;31mNameError\u001b[0m: name 'Hicpath' is not defined"
     ]
    }
   ],
   "source": [
    "R=25000\n",
    "alpha = 0.227\n",
    "\n",
    "for c in [x if x<23 else \"X\" for x in range(1,24)]:\n",
    "    print(\"Chrom {}\".format(c))\n",
    "    HiCfilename= Hicpath + '\\\\chr{}_25kb.RAWobserved'.format(c)\n",
    "    #Build matrix\n",
    "    A=np.loadtxt(HiCfilename)\n",
    "    A=np.int_(A)\n",
    "    A=np.concatenate((A,np.transpose(np.array([A[:,1],A[:,0],A[:,2]]))), axis=0)#build array at pb resolution\n",
    "    A = sparse.coo_matrix( (A[:,2], (A[:,0],A[:,1])))\n",
    "    binned_map=HiCtoolbox.bin2d(A,R,R) #!become csr sparse array\n",
    "    LENTEST=np.shape(A)[0]\n",
    "    del A #keep space\n",
    "\n",
    "    #Build color annotation at desired resolution\n",
    "    # FILTER\n",
    "    sumHicmat=np.sum(binned_map,0) \n",
    "    mini = np.mean(sumHicmat)-np.std(sumHicmat)*1.5 #min value of filtering\n",
    "    maxi = np.mean(sumHicmat)+np.std(sumHicmat)*1.5 #max value of filtering\n",
    "    binsaved=np.where(np.logical_and(mini < sumHicmat,sumHicmat < maxi)) #coord of bin to save\n",
    "    contact_map=HiCtoolbox.SCN(binned_map.copy()) \n",
    "    contact_map=np.asarray(contact_map)**alpha #now we are not sparse at all\n",
    "    \n",
    "    np.savetxt(folder + \"\\Chrom_{}.csv\".format(c),contact_map, delimiter = \" \")\n",
    "\n",
    "print(\"Done!\")\n",
    "    "
   ]
  },
  {
   "cell_type": "markdown",
   "id": "652acc7e",
   "metadata": {},
   "source": [
    "# 2) Generates windows (33*33) and labels\n",
    "##### required space: 800 Mb\n",
    "\n",
    "Will extract all label 1 windows and randomly select the same number of label 0 windows"
   ]
  },
  {
   "cell_type": "markdown",
   "id": "5e4d1834",
   "metadata": {},
   "source": [
    "## Arrowhead file's path"
   ]
  },
  {
   "cell_type": "code",
   "execution_count": 148,
   "id": "066606d6",
   "metadata": {},
   "outputs": [],
   "source": [
    "arrH_file = \"dataforstudent\\\\Arrowhead\\\\GSE63525_GM12878_primary+replicate_Arrowhead_domainlist.txt\""
   ]
  },
  {
   "cell_type": "markdown",
   "id": "adac558d",
   "metadata": {},
   "source": [
    "## Destination folder"
   ]
  },
  {
   "cell_type": "code",
   "execution_count": null,
   "id": "bb2887aa",
   "metadata": {},
   "outputs": [],
   "source": [
    "data_path = \"data_t\""
   ]
  },
  {
   "cell_type": "code",
   "execution_count": 184,
   "id": "7ae3b103",
   "metadata": {},
   "outputs": [
    {
     "name": "stdout",
     "output_type": "stream",
     "text": [
      "Read Arrowhead file...\n",
      "Done!\n",
      "\n",
      "Read chromosome 1\n",
      "Chromosome 1\n",
      "Read chromosome 2\n",
      "Chromosome 2\n",
      "Read chromosome 3\n",
      "Chromosome 3\n",
      "Read chromosome 4\n",
      "Chromosome 4\n",
      "Read chromosome 5\n",
      "Chromosome 5\n",
      "Read chromosome 6\n",
      "Chromosome 6\n",
      "Read chromosome 7\n",
      "Chromosome 7\n",
      "Read chromosome 8\n",
      "Chromosome 8\n",
      "Read chromosome 9\n",
      "Chromosome 9\n",
      "Read chromosome 10\n",
      "Chromosome 10\n",
      "Read chromosome 11\n",
      "Chromosome 11\n",
      "Read chromosome 12\n",
      "Chromosome 12\n",
      "Read chromosome 13\n",
      "Chromosome 13\n",
      "Read chromosome 14\n",
      "Chromosome 14\n",
      "Read chromosome 15\n",
      "Chromosome 15\n",
      "Read chromosome 16\n",
      "Chromosome 16\n",
      "Read chromosome 17\n",
      "Chromosome 17\n",
      "Read chromosome 18\n",
      "Chromosome 18\n",
      "Read chromosome 19\n",
      "Chromosome 19\n",
      "Read chromosome 20\n",
      "Chromosome 20\n",
      "Read chromosome 21\n",
      "Chromosome 21\n",
      "Read chromosome 22\n",
      "Chromosome 22\n",
      "Read chromosome X\n",
      "Chromosome X\n"
     ]
    }
   ],
   "source": [
    "tmp = []\n",
    "\n",
    "print(\"Read Arrowhead file...\")\n",
    "with open(arrH_file, \"r\") as f:\n",
    "    lines = f.readlines()\n",
    "for l in lines:\n",
    "    tmp.append(l.rstrip(\"\\n\").split(\"\\t\"))\n",
    "x = pd.DataFrame(tmp[1:],columns= tmp[0])\n",
    "\n",
    "print(\"Done!\")\n",
    "print()\n",
    "\n",
    "for c in [x if x<23 else \"X\" for x in range(1,24)]:\n",
    "    print(\"Read chromosome \" + str(c) )\n",
    "    mat = np.array(pd.read_csv(folder + \"\\\\Chrom_{}.csv\".format(c), sep = \" \"))\n",
    "    arr1 = np.array(np.ceil((np.array(x[x.chr1==str(c)][\"x1\"], dtype=int)//R)*R)/25000,dtype=int)\n",
    "    arr2 = np.array(np.ceil((np.array(x[x.chr1==str(c)][\"x2\"], dtype=int)//R)*R)/25000,dtype=int)\n",
    "    arr = np.concatenate((np.unique(arr1), np.unique(arr2)))\n",
    "    \n",
    "    cpt = 0\n",
    "    for l in arr:\n",
    "        #label 1\n",
    "        c1rd1 = l\n",
    "        tmpl.append(c1rd1)\n",
    "        \n",
    "        #label 0\n",
    "        r = random.randint(10,40)\n",
    "        c0rd1 = l-r\n",
    "        debug = True\n",
    "        i = 0\n",
    "        if c0rd1 >= 17 or c0rd1 < mat.shape[1]-18:\n",
    "            while c0rd1 in arr or debug==False:\n",
    "                debug = True\n",
    "                r = random.randint(10,40)\n",
    "                c0rd1 = l-r\n",
    "                try:\n",
    "                    n1 = mat[c0rd1-16:c0rd1+17,c0rd1-16:c0rd1+17]\n",
    "                    p1 = mat[c1rd1-16:c1rd1+17,c1rd1-16:c1rd1+17]\n",
    "                    \n",
    "                except IndexError:\n",
    "                    debug = False\n",
    "                    print(\"IndexError\")\n",
    "                    continue\n",
    "\n",
    "            if not (n1.shape == p1.shape):\n",
    "                continue\n",
    "            else:            \n",
    "                np.savetxt(data_path + \"\\\\0\\\\chrom_{}_{}.csv\".format(c,c0rd1), n1)\n",
    "                np.savetxt(data_path + \"\\\\1\\\\chrom_{}_{}.csv\".format(c,c1rd1), p1)\n",
    "                cpt+=2\n",
    "        else: continue\n",
    "    print(\"Chromosome {}: {} windows\".format(c, cpt))\n",
    "\n",
    "\n",
    "        "
   ]
  }
 ],
 "metadata": {
  "kernelspec": {
   "display_name": "Python 3",
   "language": "python",
   "name": "python3"
  },
  "language_info": {
   "codemirror_mode": {
    "name": "ipython",
    "version": 3
   },
   "file_extension": ".py",
   "mimetype": "text/x-python",
   "name": "python",
   "nbconvert_exporter": "python",
   "pygments_lexer": "ipython3",
   "version": "3.8.8"
  }
 },
 "nbformat": 4,
 "nbformat_minor": 5
}
